{
 "cells": [
  {
   "cell_type": "markdown",
   "metadata": {},
   "source": [
    "Import"
   ]
  },
  {
   "cell_type": "code",
   "execution_count": 1,
   "metadata": {},
   "outputs": [],
   "source": [
    "import os, random\n",
    "import numpy as np\n",
    "import pandas as pd\n",
    "\n",
    "from ase.io import read\n",
    "\n",
    "import torch\n",
    "import torch.nn as nn\n",
    "import torch.optim as optim\n",
    "from torch.utils.data import TensorDataset, Dataset, DataLoader\n",
    "\n",
    "from tqdm.auto import tqdm\n",
    "\n",
    "np.set_printoptions(threshold=np.inf)"
   ]
  },
  {
   "cell_type": "code",
   "execution_count": 2,
   "metadata": {},
   "outputs": [],
   "source": [
    "def seed_everything(seed):\n",
    "    random.seed(seed)\n",
    "    np.random.seed(seed)\n",
    "    os.environ[\"PYTHONHASHSEED\"] = str(seed)\n",
    "    torch.manual_seed(seed)\n",
    "\n",
    "seed_everything(42) # Seed 고정"
   ]
  },
  {
   "cell_type": "markdown",
   "metadata": {},
   "source": [
    "Pre-Processing"
   ]
  },
  {
   "cell_type": "code",
   "execution_count": 3,
   "metadata": {},
   "outputs": [
    {
     "ename": "KeyboardInterrupt",
     "evalue": "",
     "output_type": "error",
     "traceback": [
      "\u001b[1;31m---------------------------------------------------------------------------\u001b[0m",
      "\u001b[1;31mKeyboardInterrupt\u001b[0m                         Traceback (most recent call last)",
      "\u001b[1;32mc:\\Users\\YEBIN\\Desktop\\반도체\\sample_code.ipynb Cell 5\u001b[0m in \u001b[0;36m1\n\u001b[1;32m----> <a href='vscode-notebook-cell:/c%3A/Users/YEBIN/Desktop/%EB%B0%98%EB%8F%84%EC%B2%B4/sample_code.ipynb#W4sZmlsZQ%3D%3D?line=0'>1</a>\u001b[0m train \u001b[39m=\u001b[39m read(\u001b[39m'\u001b[39m\u001b[39m./data/train.xyz\u001b[39m\u001b[39m'\u001b[39m, \u001b[39mformat\u001b[39m\u001b[39m=\u001b[39m\u001b[39m'\u001b[39m\u001b[39mextxyz\u001b[39m\u001b[39m'\u001b[39m, index\u001b[39m=\u001b[39m\u001b[39m'\u001b[39m\u001b[39m:\u001b[39m\u001b[39m'\u001b[39m) \u001b[39m# 전체 데이터 불러오기\u001b[39;00m\n\u001b[0;32m      <a href='vscode-notebook-cell:/c%3A/Users/YEBIN/Desktop/%EB%B0%98%EB%8F%84%EC%B2%B4/sample_code.ipynb#W4sZmlsZQ%3D%3D?line=1'>2</a>\u001b[0m test \u001b[39m=\u001b[39m read(\u001b[39m'\u001b[39m\u001b[39m./data/test.xyz\u001b[39m\u001b[39m'\u001b[39m, \u001b[39mformat\u001b[39m\u001b[39m=\u001b[39m\u001b[39m'\u001b[39m\u001b[39mextxyz\u001b[39m\u001b[39m'\u001b[39m, index\u001b[39m=\u001b[39m\u001b[39m'\u001b[39m\u001b[39m:\u001b[39m\u001b[39m'\u001b[39m)\n\u001b[0;32m      <a href='vscode-notebook-cell:/c%3A/Users/YEBIN/Desktop/%EB%B0%98%EB%8F%84%EC%B2%B4/sample_code.ipynb#W4sZmlsZQ%3D%3D?line=2'>3</a>\u001b[0m sample \u001b[39m=\u001b[39m pd\u001b[39m.\u001b[39mread_csv(\u001b[39m'\u001b[39m\u001b[39m./data/sample_submission.csv\u001b[39m\u001b[39m'\u001b[39m)\n",
      "File \u001b[1;32mc:\\Users\\YEBIN\\AppData\\Local\\Programs\\Python\\Python39\\lib\\site-packages\\ase\\io\\formats.py:733\u001b[0m, in \u001b[0;36mread\u001b[1;34m(filename, index, format, parallel, do_not_split_by_at_sign, **kwargs)\u001b[0m\n\u001b[0;32m    731\u001b[0m io \u001b[39m=\u001b[39m get_ioformat(\u001b[39mformat\u001b[39m)\n\u001b[0;32m    732\u001b[0m \u001b[39mif\u001b[39;00m \u001b[39misinstance\u001b[39m(index, (\u001b[39mslice\u001b[39m, \u001b[39mstr\u001b[39m)):\n\u001b[1;32m--> 733\u001b[0m     \u001b[39mreturn\u001b[39;00m \u001b[39mlist\u001b[39;49m(_iread(filename, index, \u001b[39mformat\u001b[39;49m, io, parallel\u001b[39m=\u001b[39;49mparallel,\n\u001b[0;32m    734\u001b[0m                        \u001b[39m*\u001b[39;49m\u001b[39m*\u001b[39;49mkwargs))\n\u001b[0;32m    735\u001b[0m \u001b[39melse\u001b[39;00m:\n\u001b[0;32m    736\u001b[0m     \u001b[39mreturn\u001b[39;00m \u001b[39mnext\u001b[39m(_iread(filename, \u001b[39mslice\u001b[39m(index, \u001b[39mNone\u001b[39;00m), \u001b[39mformat\u001b[39m, io,\n\u001b[0;32m    737\u001b[0m                        parallel\u001b[39m=\u001b[39mparallel, \u001b[39m*\u001b[39m\u001b[39m*\u001b[39mkwargs))\n",
      "File \u001b[1;32mc:\\Users\\YEBIN\\AppData\\Local\\Programs\\Python\\Python39\\lib\\site-packages\\ase\\parallel.py:275\u001b[0m, in \u001b[0;36mparallel_generator.<locals>.new_generator\u001b[1;34m(*args, **kwargs)\u001b[0m\n\u001b[0;32m    269\u001b[0m \u001b[39m@functools\u001b[39m\u001b[39m.\u001b[39mwraps(generator)\n\u001b[0;32m    270\u001b[0m \u001b[39mdef\u001b[39;00m \u001b[39mnew_generator\u001b[39m(\u001b[39m*\u001b[39margs, \u001b[39m*\u001b[39m\u001b[39m*\u001b[39mkwargs):\n\u001b[0;32m    271\u001b[0m     \u001b[39mif\u001b[39;00m (world\u001b[39m.\u001b[39msize \u001b[39m==\u001b[39m \u001b[39m1\u001b[39m \u001b[39mor\u001b[39;00m\n\u001b[0;32m    272\u001b[0m         args \u001b[39mand\u001b[39;00m \u001b[39mgetattr\u001b[39m(args[\u001b[39m0\u001b[39m], \u001b[39m'\u001b[39m\u001b[39mserial\u001b[39m\u001b[39m'\u001b[39m, \u001b[39mFalse\u001b[39;00m) \u001b[39mor\u001b[39;00m\n\u001b[0;32m    273\u001b[0m         \u001b[39mnot\u001b[39;00m kwargs\u001b[39m.\u001b[39mpop(\u001b[39m'\u001b[39m\u001b[39mparallel\u001b[39m\u001b[39m'\u001b[39m, \u001b[39mTrue\u001b[39;00m)):\n\u001b[0;32m    274\u001b[0m         \u001b[39m# Disable:\u001b[39;00m\n\u001b[1;32m--> 275\u001b[0m         \u001b[39mfor\u001b[39;00m result \u001b[39min\u001b[39;00m generator(\u001b[39m*\u001b[39margs, \u001b[39m*\u001b[39m\u001b[39m*\u001b[39mkwargs):\n\u001b[0;32m    276\u001b[0m             \u001b[39myield\u001b[39;00m result\n\u001b[0;32m    277\u001b[0m         \u001b[39mreturn\u001b[39;00m\n",
      "File \u001b[1;32mc:\\Users\\YEBIN\\AppData\\Local\\Programs\\Python\\Python39\\lib\\site-packages\\ase\\io\\formats.py:803\u001b[0m, in \u001b[0;36m_iread\u001b[1;34m(filename, index, format, io, parallel, full_output, **kwargs)\u001b[0m\n\u001b[0;32m    801\u001b[0m \u001b[39m# Make sure fd is closed in case loop doesn't finish:\u001b[39;00m\n\u001b[0;32m    802\u001b[0m \u001b[39mtry\u001b[39;00m:\n\u001b[1;32m--> 803\u001b[0m     \u001b[39mfor\u001b[39;00m dct \u001b[39min\u001b[39;00m io\u001b[39m.\u001b[39mread(fd, \u001b[39m*\u001b[39margs, \u001b[39m*\u001b[39m\u001b[39m*\u001b[39mkwargs):\n\u001b[0;32m    804\u001b[0m         \u001b[39mif\u001b[39;00m \u001b[39mnot\u001b[39;00m \u001b[39misinstance\u001b[39m(dct, \u001b[39mdict\u001b[39m):\n\u001b[0;32m    805\u001b[0m             dct \u001b[39m=\u001b[39m {\u001b[39m'\u001b[39m\u001b[39matoms\u001b[39m\u001b[39m'\u001b[39m: dct}\n",
      "File \u001b[1;32mc:\\Users\\YEBIN\\AppData\\Local\\Programs\\Python\\Python39\\lib\\site-packages\\ase\\io\\formats.py:559\u001b[0m, in \u001b[0;36mwrap_read_function\u001b[1;34m(read, filename, index, **kwargs)\u001b[0m\n\u001b[0;32m    557\u001b[0m     \u001b[39myield\u001b[39;00m read(filename, \u001b[39m*\u001b[39m\u001b[39m*\u001b[39mkwargs)\n\u001b[0;32m    558\u001b[0m \u001b[39melse\u001b[39;00m:\n\u001b[1;32m--> 559\u001b[0m     \u001b[39mfor\u001b[39;00m atoms \u001b[39min\u001b[39;00m read(filename, index, \u001b[39m*\u001b[39m\u001b[39m*\u001b[39mkwargs):\n\u001b[0;32m    560\u001b[0m         \u001b[39myield\u001b[39;00m atoms\n",
      "File \u001b[1;32mc:\\Users\\YEBIN\\AppData\\Local\\Programs\\Python\\Python39\\lib\\site-packages\\ase\\io\\extxyz.py:773\u001b[0m, in \u001b[0;36mread_xyz\u001b[1;34m(fileobj, index, properties_parser)\u001b[0m\n\u001b[0;32m    771\u001b[0m \u001b[39m# check for consistency with frame index table\u001b[39;00m\n\u001b[0;32m    772\u001b[0m \u001b[39massert\u001b[39;00m \u001b[39mint\u001b[39m(fileobj\u001b[39m.\u001b[39mreadline()) \u001b[39m==\u001b[39m natoms\n\u001b[1;32m--> 773\u001b[0m \u001b[39myield\u001b[39;00m _read_xyz_frame(fileobj, natoms, properties_parser, nvec)\n",
      "File \u001b[1;32mc:\\Users\\YEBIN\\AppData\\Local\\Programs\\Python\\Python39\\lib\\site-packages\\ase\\io\\extxyz.py:534\u001b[0m, in \u001b[0;36m_read_xyz_frame\u001b[1;34m(lines, natoms, properties_parser, nvec)\u001b[0m\n\u001b[0;32m    532\u001b[0m         results[key] \u001b[39m=\u001b[39m atoms\u001b[39m.\u001b[39marrays[key]\n\u001b[0;32m    533\u001b[0m \u001b[39mif\u001b[39;00m results \u001b[39m!=\u001b[39m {}:\n\u001b[1;32m--> 534\u001b[0m     calculator \u001b[39m=\u001b[39m SinglePointCalculator(atoms, \u001b[39m*\u001b[39m\u001b[39m*\u001b[39mresults)\n\u001b[0;32m    535\u001b[0m     atoms\u001b[39m.\u001b[39mcalc \u001b[39m=\u001b[39m calculator\n\u001b[0;32m    536\u001b[0m \u001b[39mreturn\u001b[39;00m atoms\n",
      "File \u001b[1;32mc:\\Users\\YEBIN\\AppData\\Local\\Programs\\Python\\Python39\\lib\\site-packages\\ase\\calculators\\singlepoint.py:29\u001b[0m, in \u001b[0;36mSinglePointCalculator.__init__\u001b[1;34m(self, atoms, **results)\u001b[0m\n\u001b[0;32m     27\u001b[0m     \u001b[39melse\u001b[39;00m:\n\u001b[0;32m     28\u001b[0m         \u001b[39mself\u001b[39m\u001b[39m.\u001b[39mresults[\u001b[39mproperty\u001b[39m] \u001b[39m=\u001b[39m np\u001b[39m.\u001b[39marray(value, \u001b[39mfloat\u001b[39m)\n\u001b[1;32m---> 29\u001b[0m \u001b[39mself\u001b[39m\u001b[39m.\u001b[39matoms \u001b[39m=\u001b[39m atoms\u001b[39m.\u001b[39;49mcopy()\n",
      "File \u001b[1;32mc:\\Users\\YEBIN\\AppData\\Local\\Programs\\Python\\Python39\\lib\\site-packages\\ase\\atoms.py:907\u001b[0m, in \u001b[0;36mAtoms.copy\u001b[1;34m(self)\u001b[0m\n\u001b[0;32m    905\u001b[0m \u001b[39mdef\u001b[39;00m \u001b[39mcopy\u001b[39m(\u001b[39mself\u001b[39m):\n\u001b[0;32m    906\u001b[0m \u001b[39m    \u001b[39m\u001b[39m\"\"\"Return a copy.\"\"\"\u001b[39;00m\n\u001b[1;32m--> 907\u001b[0m     atoms \u001b[39m=\u001b[39m \u001b[39mself\u001b[39;49m\u001b[39m.\u001b[39;49m\u001b[39m__class__\u001b[39;49m(cell\u001b[39m=\u001b[39;49m\u001b[39mself\u001b[39;49m\u001b[39m.\u001b[39;49mcell, pbc\u001b[39m=\u001b[39;49m\u001b[39mself\u001b[39;49m\u001b[39m.\u001b[39;49mpbc, info\u001b[39m=\u001b[39;49m\u001b[39mself\u001b[39;49m\u001b[39m.\u001b[39;49minfo,\n\u001b[0;32m    908\u001b[0m                            celldisp\u001b[39m=\u001b[39;49m\u001b[39mself\u001b[39;49m\u001b[39m.\u001b[39;49m_celldisp\u001b[39m.\u001b[39;49mcopy())\n\u001b[0;32m    910\u001b[0m     atoms\u001b[39m.\u001b[39marrays \u001b[39m=\u001b[39m {}\n\u001b[0;32m    911\u001b[0m     \u001b[39mfor\u001b[39;00m name, a \u001b[39min\u001b[39;00m \u001b[39mself\u001b[39m\u001b[39m.\u001b[39marrays\u001b[39m.\u001b[39mitems():\n",
      "File \u001b[1;32mc:\\Users\\YEBIN\\AppData\\Local\\Programs\\Python\\Python39\\lib\\site-packages\\ase\\atoms.py:142\u001b[0m, in \u001b[0;36mAtoms.__init__\u001b[1;34m(self, symbols, positions, numbers, tags, momenta, masses, magmoms, charges, scaled_positions, cell, pbc, celldisp, constraint, calculator, info, velocities)\u001b[0m\n\u001b[0;32m    131\u001b[0m \u001b[39mdef\u001b[39;00m \u001b[39m__init__\u001b[39m(\u001b[39mself\u001b[39m, symbols\u001b[39m=\u001b[39m\u001b[39mNone\u001b[39;00m,\n\u001b[0;32m    132\u001b[0m              positions\u001b[39m=\u001b[39m\u001b[39mNone\u001b[39;00m, numbers\u001b[39m=\u001b[39m\u001b[39mNone\u001b[39;00m,\n\u001b[0;32m    133\u001b[0m              tags\u001b[39m=\u001b[39m\u001b[39mNone\u001b[39;00m, momenta\u001b[39m=\u001b[39m\u001b[39mNone\u001b[39;00m, masses\u001b[39m=\u001b[39m\u001b[39mNone\u001b[39;00m,\n\u001b[1;32m   (...)\u001b[0m\n\u001b[0;32m    139\u001b[0m              info\u001b[39m=\u001b[39m\u001b[39mNone\u001b[39;00m,\n\u001b[0;32m    140\u001b[0m              velocities\u001b[39m=\u001b[39m\u001b[39mNone\u001b[39;00m):\n\u001b[1;32m--> 142\u001b[0m     \u001b[39mself\u001b[39m\u001b[39m.\u001b[39m_cellobj \u001b[39m=\u001b[39m Cell\u001b[39m.\u001b[39;49mnew()\n\u001b[0;32m    143\u001b[0m     \u001b[39mself\u001b[39m\u001b[39m.\u001b[39m_pbc \u001b[39m=\u001b[39m np\u001b[39m.\u001b[39mzeros(\u001b[39m3\u001b[39m, \u001b[39mbool\u001b[39m)\n\u001b[0;32m    145\u001b[0m     atoms \u001b[39m=\u001b[39m \u001b[39mNone\u001b[39;00m\n",
      "File \u001b[1;32mc:\\Users\\YEBIN\\AppData\\Local\\Programs\\Python\\Python39\\lib\\site-packages\\ase\\cell.py:74\u001b[0m, in \u001b[0;36mCell.new\u001b[1;34m(cls, cell)\u001b[0m\n\u001b[0;32m     71\u001b[0m \u001b[39mif\u001b[39;00m cell \u001b[39mis\u001b[39;00m \u001b[39mNone\u001b[39;00m:\n\u001b[0;32m     72\u001b[0m     cell \u001b[39m=\u001b[39m np\u001b[39m.\u001b[39mzeros((\u001b[39m3\u001b[39m, \u001b[39m3\u001b[39m))\n\u001b[1;32m---> 74\u001b[0m cell \u001b[39m=\u001b[39m np\u001b[39m.\u001b[39;49marray(cell, \u001b[39mfloat\u001b[39;49m)\n\u001b[0;32m     76\u001b[0m \u001b[39mif\u001b[39;00m cell\u001b[39m.\u001b[39mshape \u001b[39m==\u001b[39m (\u001b[39m3\u001b[39m,):\n\u001b[0;32m     77\u001b[0m     cell \u001b[39m=\u001b[39m np\u001b[39m.\u001b[39mdiag(cell)\n",
      "\u001b[1;31mKeyboardInterrupt\u001b[0m: "
     ]
    }
   ],
   "source": [
    "train = read('./data/train.xyz', format='extxyz', index=':') # 전체 데이터 불러오기\n",
    "test = read('./data/test.xyz', format='extxyz', index=':')\n",
    "sample = pd.read_csv('./data/sample_submission.csv')"
   ]
  },
  {
   "cell_type": "code",
   "execution_count": 6,
   "metadata": {},
   "outputs": [
    {
     "name": "stdout",
     "output_type": "stream",
     "text": [
      "The number of data: 22510\n"
     ]
    },
    {
     "data": {
      "text/plain": [
       "Atoms(symbols='N24Si24', pbc=True, cell=[8.52238831, 8.52238831, 8.52238831], forces=..., calculator=SinglePointCalculator(...))"
      ]
     },
     "execution_count": 6,
     "metadata": {},
     "output_type": "execute_result"
    }
   ],
   "source": [
    "print(f\"The number of data: {len(train)}\")\n",
    "train[0]"
   ]
  },
  {
   "cell_type": "code",
   "execution_count": 7,
   "metadata": {},
   "outputs": [
    {
     "data": {
      "text/html": [
       "<div>\n",
       "<style scoped>\n",
       "    .dataframe tbody tr th:only-of-type {\n",
       "        vertical-align: middle;\n",
       "    }\n",
       "\n",
       "    .dataframe tbody tr th {\n",
       "        vertical-align: top;\n",
       "    }\n",
       "\n",
       "    .dataframe thead th {\n",
       "        text-align: right;\n",
       "    }\n",
       "</style>\n",
       "<table border=\"1\" class=\"dataframe\">\n",
       "  <thead>\n",
       "    <tr style=\"text-align: right;\">\n",
       "      <th></th>\n",
       "      <th>position_x</th>\n",
       "      <th>position_y</th>\n",
       "      <th>position_z</th>\n",
       "      <th>force</th>\n",
       "    </tr>\n",
       "  </thead>\n",
       "  <tbody>\n",
       "    <tr>\n",
       "      <th>0</th>\n",
       "      <td>1.591737</td>\n",
       "      <td>4.200483</td>\n",
       "      <td>7.832245</td>\n",
       "      <td>[-1.9364797, -2.75540073, 0.90898967]</td>\n",
       "    </tr>\n",
       "    <tr>\n",
       "      <th>1</th>\n",
       "      <td>5.640802</td>\n",
       "      <td>2.305094</td>\n",
       "      <td>4.606757</td>\n",
       "      <td>[1.77046974, -0.17350153, -1.99398617]</td>\n",
       "    </tr>\n",
       "    <tr>\n",
       "      <th>2</th>\n",
       "      <td>6.672786</td>\n",
       "      <td>8.483263</td>\n",
       "      <td>2.981881</td>\n",
       "      <td>[-2.05488716, -0.29381591, -0.89173793]</td>\n",
       "    </tr>\n",
       "    <tr>\n",
       "      <th>3</th>\n",
       "      <td>1.908548</td>\n",
       "      <td>0.147931</td>\n",
       "      <td>1.741693</td>\n",
       "      <td>[-0.89207197, -0.8143158, -1.36426899]</td>\n",
       "    </tr>\n",
       "    <tr>\n",
       "      <th>4</th>\n",
       "      <td>4.375650</td>\n",
       "      <td>6.837884</td>\n",
       "      <td>1.948188</td>\n",
       "      <td>[-4.65938123, -0.77685475, -3.07403915]</td>\n",
       "    </tr>\n",
       "  </tbody>\n",
       "</table>\n",
       "</div>"
      ],
      "text/plain": [
       "   position_x  position_y  position_z                                    force\n",
       "0    1.591737    4.200483    7.832245    [-1.9364797, -2.75540073, 0.90898967]\n",
       "1    5.640802    2.305094    4.606757   [1.77046974, -0.17350153, -1.99398617]\n",
       "2    6.672786    8.483263    2.981881  [-2.05488716, -0.29381591, -0.89173793]\n",
       "3    1.908548    0.147931    1.741693   [-0.89207197, -0.8143158, -1.36426899]\n",
       "4    4.375650    6.837884    1.948188  [-4.65938123, -0.77685475, -3.07403915]"
      ]
     },
     "execution_count": 7,
     "metadata": {},
     "output_type": "execute_result"
    }
   ],
   "source": [
    "sequence_train, symbols, positions_x, positions_y, positions_z, forces, energies = [], [], [], [], [], [], []\n",
    "\n",
    "for i in range(len(train)):\n",
    "    mole = train[i] # 각 분자\n",
    "    \n",
    "    atoms = len(mole) # 원자 개수\n",
    "    sequence_train.append(atoms)\n",
    "    \n",
    "    position = mole.get_positions() # 원자 위치 정보\n",
    "    force = mole.get_forces() # label 1\n",
    "    \n",
    "    energy = mole.get_total_energy() # label 2\n",
    "    energies.append(energy)\n",
    "    \n",
    "    for j in range(len(mole)): # 각 원자에 대해\n",
    "        atom = mole[j]\n",
    "        \n",
    "        positions_x.append(position[j][0])\n",
    "        positions_y.append(position[j][1])\n",
    "        positions_z.append(position[j][2])\n",
    "        forces.append(force[j])\n",
    "        \n",
    "train_df = pd.DataFrame({'position_x': positions_x, 'position_y':positions_y, 'position_z':positions_z, 'force':forces})        \n",
    "train_df.head()"
   ]
  },
  {
   "cell_type": "code",
   "execution_count": 8,
   "metadata": {},
   "outputs": [
    {
     "data": {
      "text/html": [
       "<div>\n",
       "<style scoped>\n",
       "    .dataframe tbody tr th:only-of-type {\n",
       "        vertical-align: middle;\n",
       "    }\n",
       "\n",
       "    .dataframe tbody tr th {\n",
       "        vertical-align: top;\n",
       "    }\n",
       "\n",
       "    .dataframe thead th {\n",
       "        text-align: right;\n",
       "    }\n",
       "</style>\n",
       "<table border=\"1\" class=\"dataframe\">\n",
       "  <thead>\n",
       "    <tr style=\"text-align: right;\">\n",
       "      <th></th>\n",
       "      <th>position_x</th>\n",
       "      <th>position_y</th>\n",
       "      <th>position_z</th>\n",
       "      <th>force</th>\n",
       "    </tr>\n",
       "  </thead>\n",
       "  <tbody>\n",
       "    <tr>\n",
       "      <th>0</th>\n",
       "      <td>9.671275</td>\n",
       "      <td>8.734431</td>\n",
       "      <td>6.151755</td>\n",
       "      <td>None</td>\n",
       "    </tr>\n",
       "    <tr>\n",
       "      <th>1</th>\n",
       "      <td>1.676806</td>\n",
       "      <td>2.238918</td>\n",
       "      <td>5.270450</td>\n",
       "      <td>None</td>\n",
       "    </tr>\n",
       "    <tr>\n",
       "      <th>2</th>\n",
       "      <td>10.358608</td>\n",
       "      <td>4.824889</td>\n",
       "      <td>9.174357</td>\n",
       "      <td>None</td>\n",
       "    </tr>\n",
       "    <tr>\n",
       "      <th>3</th>\n",
       "      <td>4.370620</td>\n",
       "      <td>5.391541</td>\n",
       "      <td>9.812298</td>\n",
       "      <td>None</td>\n",
       "    </tr>\n",
       "    <tr>\n",
       "      <th>4</th>\n",
       "      <td>2.453404</td>\n",
       "      <td>10.449967</td>\n",
       "      <td>9.906622</td>\n",
       "      <td>None</td>\n",
       "    </tr>\n",
       "  </tbody>\n",
       "</table>\n",
       "</div>"
      ],
      "text/plain": [
       "   position_x  position_y  position_z force\n",
       "0    9.671275    8.734431    6.151755  None\n",
       "1    1.676806    2.238918    5.270450  None\n",
       "2   10.358608    4.824889    9.174357  None\n",
       "3    4.370620    5.391541    9.812298  None\n",
       "4    2.453404   10.449967    9.906622  None"
      ]
     },
     "execution_count": 8,
     "metadata": {},
     "output_type": "execute_result"
    }
   ],
   "source": [
    "sequence_test, positions_x, positions_y, positions_z = [], [], [], []\n",
    "\n",
    "for i in range(len(test)):\n",
    "    mole = test[i] # 각 분자\n",
    "    \n",
    "    atoms = len(mole) # 원자 개수\n",
    "    sequence_test.append(atoms)\n",
    "    \n",
    "    position = mole.get_positions() # 원자 위치 정보\n",
    "    \n",
    "    for j in range(len(mole)): # 각 원자에 대해\n",
    "        atom = mole[j]\n",
    "        \n",
    "        positions_x.append(position[j][0])\n",
    "        positions_y.append(position[j][1])\n",
    "        positions_z.append(position[j][2])\n",
    "        \n",
    "test_df = pd.DataFrame({'position_x': positions_x, 'position_y':positions_y, 'position_z':positions_z, 'force':None})        \n",
    "test_df.head()"
   ]
  },
  {
   "cell_type": "markdown",
   "metadata": {},
   "source": [
    "[Force] Hyperparameter Setting"
   ]
  },
  {
   "cell_type": "code",
   "execution_count": 9,
   "metadata": {},
   "outputs": [],
   "source": [
    "# 하이퍼파라미터\n",
    "input_size = 3  # feature 개수\n",
    "hidden_size = 256\n",
    "output_size = 3 # target 개수\n",
    "num_epochs = 3\n",
    "batch_size = 256\n",
    "learning_rate = 0.001"
   ]
  },
  {
   "cell_type": "markdown",
   "metadata": {},
   "source": [
    "[Force] Dataset"
   ]
  },
  {
   "cell_type": "code",
   "execution_count": 10,
   "metadata": {},
   "outputs": [],
   "source": [
    "class ForceDataset(Dataset):\n",
    "    def __init__(self, df, mode='test'):\n",
    "        self.df = df\n",
    "        self.mode = mode\n",
    "    \n",
    "    def __len__(self):\n",
    "        return len(self.df)\n",
    "    \n",
    "    def __getitem__(self, idx):\n",
    "        \n",
    "        pos_x = self.df.loc[idx, 'position_x']\n",
    "        pos_y = self.df.loc[idx, 'position_y']\n",
    "        pos_z = self.df.loc[idx, 'position_z']\n",
    "        \n",
    "        inputs = torch.tensor([pos_x, pos_y, pos_z], dtype=torch.float32)\n",
    "        \n",
    "        if not self.mode == 'test':\n",
    "            label = torch.tensor(self.df.loc[idx, 'force'], dtype=torch.float32)\n",
    "            return inputs, label\n",
    "        else:\n",
    "            return inputs"
   ]
  },
  {
   "cell_type": "code",
   "execution_count": 11,
   "metadata": {},
   "outputs": [],
   "source": [
    "train_dataset = ForceDataset(train_df, 'train')\n",
    "test_dataset = ForceDataset(test_df, 'test')\n",
    "\n",
    "train_loader = DataLoader(train_dataset, batch_size=batch_size, shuffle=True)\n",
    "test_loader = DataLoader(test_dataset, batch_size=batch_size, shuffle=False)"
   ]
  },
  {
   "cell_type": "markdown",
   "metadata": {},
   "source": [
    "[Force] Model"
   ]
  },
  {
   "cell_type": "code",
   "execution_count": 12,
   "metadata": {},
   "outputs": [],
   "source": [
    "class ForceModel(nn.Module):\n",
    "    def __init__(self, input_size, hidden_size):\n",
    "        super(ForceModel, self).__init__()\n",
    "        \n",
    "        self.layers = nn.Sequential(\n",
    "            nn.Linear(input_size, hidden_size),\n",
    "            nn.BatchNorm1d(hidden_size),\n",
    "            nn.ReLU(),\n",
    "            nn.Dropout(0.5),\n",
    "            \n",
    "            nn.Linear(hidden_size, 128),\n",
    "            nn.BatchNorm1d(128),\n",
    "            nn.LeakyReLU(0.01),\n",
    "            nn.Dropout(0.5),\n",
    "            \n",
    "            nn.Linear(128, 64),\n",
    "            nn.BatchNorm1d(64),\n",
    "            nn.ReLU(),\n",
    "            nn.Dropout(0.5),\n",
    "            \n",
    "            nn.Linear(64, 3)\n",
    "        )\n",
    "    \n",
    "    def forward(self, x):\n",
    "        y = self.layers(x)\n",
    "        \n",
    "        return y"
   ]
  },
  {
   "cell_type": "code",
   "execution_count": 15,
   "metadata": {},
   "outputs": [
    {
     "name": "stdout",
     "output_type": "stream",
     "text": [
      "current device is cpu\n"
     ]
    }
   ],
   "source": [
    "device = 'cuda' if torch.cuda.is_available() else 'cpu'\n",
    "print(f\"current device is {device}\")\n",
    "\n",
    "model = ForceModel(input_size, hidden_size).to(device)\n",
    "criterion = nn.MSELoss()\n",
    "optimizer = optim.Adam(model.parameters(), lr=learning_rate)"
   ]
  },
  {
   "cell_type": "markdown",
   "metadata": {},
   "source": [
    "[Force] Train"
   ]
  },
  {
   "cell_type": "code",
   "execution_count": 14,
   "metadata": {},
   "outputs": [
    {
     "name": "stdout",
     "output_type": "stream",
     "text": [
      "Training Start!\n",
      "1/3 epoch..\n"
     ]
    },
    {
     "data": {
      "application/vnd.jupyter.widget-view+json": {
       "model_id": "f12f70881e124c9dbc3e570f2f76394d",
       "version_major": 2,
       "version_minor": 0
      },
      "text/plain": [
       "  0%|          | 0/5020 [00:00<?, ?it/s]"
      ]
     },
     "metadata": {},
     "output_type": "display_data"
    },
    {
     "ename": "KeyboardInterrupt",
     "evalue": "",
     "output_type": "error",
     "traceback": [
      "\u001b[1;31m---------------------------------------------------------------------------\u001b[0m",
      "\u001b[1;31mKeyboardInterrupt\u001b[0m                         Traceback (most recent call last)",
      "\u001b[1;32mc:\\Users\\YEBIN\\Desktop\\반도체\\sample_code.ipynb Cell 18\u001b[0m in \u001b[0;36m6\n\u001b[0;32m      <a href='vscode-notebook-cell:/c%3A/Users/YEBIN/Desktop/%EB%B0%98%EB%8F%84%EC%B2%B4/sample_code.ipynb#X22sZmlsZQ%3D%3D?line=3'>4</a>\u001b[0m \u001b[39mfor\u001b[39;00m epoch \u001b[39min\u001b[39;00m \u001b[39mrange\u001b[39m(num_epochs):\n\u001b[0;32m      <a href='vscode-notebook-cell:/c%3A/Users/YEBIN/Desktop/%EB%B0%98%EB%8F%84%EC%B2%B4/sample_code.ipynb#X22sZmlsZQ%3D%3D?line=4'>5</a>\u001b[0m     \u001b[39mprint\u001b[39m(\u001b[39mf\u001b[39m\u001b[39m\"\u001b[39m\u001b[39m{\u001b[39;00mepoch\u001b[39m+\u001b[39m\u001b[39m1\u001b[39m\u001b[39m}\u001b[39;00m\u001b[39m/\u001b[39m\u001b[39m{\u001b[39;00mnum_epochs\u001b[39m}\u001b[39;00m\u001b[39m epoch..\u001b[39m\u001b[39m\"\u001b[39m)\n\u001b[1;32m----> <a href='vscode-notebook-cell:/c%3A/Users/YEBIN/Desktop/%EB%B0%98%EB%8F%84%EC%B2%B4/sample_code.ipynb#X22sZmlsZQ%3D%3D?line=5'>6</a>\u001b[0m     \u001b[39mfor\u001b[39;00m inputs, labels \u001b[39min\u001b[39;00m tqdm(train_loader):\n\u001b[0;32m      <a href='vscode-notebook-cell:/c%3A/Users/YEBIN/Desktop/%EB%B0%98%EB%8F%84%EC%B2%B4/sample_code.ipynb#X22sZmlsZQ%3D%3D?line=6'>7</a>\u001b[0m         optimizer\u001b[39m.\u001b[39mzero_grad()\n\u001b[0;32m      <a href='vscode-notebook-cell:/c%3A/Users/YEBIN/Desktop/%EB%B0%98%EB%8F%84%EC%B2%B4/sample_code.ipynb#X22sZmlsZQ%3D%3D?line=8'>9</a>\u001b[0m         inputs \u001b[39m=\u001b[39m inputs\u001b[39m.\u001b[39mto(device)\n",
      "File \u001b[1;32mc:\\Users\\YEBIN\\AppData\\Local\\Programs\\Python\\Python39\\lib\\site-packages\\tqdm\\notebook.py:259\u001b[0m, in \u001b[0;36mtqdm_notebook.__iter__\u001b[1;34m(self)\u001b[0m\n\u001b[0;32m    257\u001b[0m \u001b[39mtry\u001b[39;00m:\n\u001b[0;32m    258\u001b[0m     it \u001b[39m=\u001b[39m \u001b[39msuper\u001b[39m(tqdm_notebook, \u001b[39mself\u001b[39m)\u001b[39m.\u001b[39m\u001b[39m__iter__\u001b[39m()\n\u001b[1;32m--> 259\u001b[0m     \u001b[39mfor\u001b[39;00m obj \u001b[39min\u001b[39;00m it:\n\u001b[0;32m    260\u001b[0m         \u001b[39m# return super(tqdm...) will not catch exception\u001b[39;00m\n\u001b[0;32m    261\u001b[0m         \u001b[39myield\u001b[39;00m obj\n\u001b[0;32m    262\u001b[0m \u001b[39m# NB: except ... [ as ...] breaks IPython async KeyboardInterrupt\u001b[39;00m\n",
      "File \u001b[1;32mc:\\Users\\YEBIN\\AppData\\Local\\Programs\\Python\\Python39\\lib\\site-packages\\tqdm\\std.py:1195\u001b[0m, in \u001b[0;36mtqdm.__iter__\u001b[1;34m(self)\u001b[0m\n\u001b[0;32m   1192\u001b[0m time \u001b[39m=\u001b[39m \u001b[39mself\u001b[39m\u001b[39m.\u001b[39m_time\n\u001b[0;32m   1194\u001b[0m \u001b[39mtry\u001b[39;00m:\n\u001b[1;32m-> 1195\u001b[0m     \u001b[39mfor\u001b[39;00m obj \u001b[39min\u001b[39;00m iterable:\n\u001b[0;32m   1196\u001b[0m         \u001b[39myield\u001b[39;00m obj\n\u001b[0;32m   1197\u001b[0m         \u001b[39m# Update and possibly print the progressbar.\u001b[39;00m\n\u001b[0;32m   1198\u001b[0m         \u001b[39m# Note: does not call self.update(1) for speed optimisation.\u001b[39;00m\n",
      "File \u001b[1;32mc:\\Users\\YEBIN\\AppData\\Local\\Programs\\Python\\Python39\\lib\\site-packages\\torch\\utils\\data\\dataloader.py:633\u001b[0m, in \u001b[0;36m_BaseDataLoaderIter.__next__\u001b[1;34m(self)\u001b[0m\n\u001b[0;32m    630\u001b[0m \u001b[39mif\u001b[39;00m \u001b[39mself\u001b[39m\u001b[39m.\u001b[39m_sampler_iter \u001b[39mis\u001b[39;00m \u001b[39mNone\u001b[39;00m:\n\u001b[0;32m    631\u001b[0m     \u001b[39m# TODO(https://github.com/pytorch/pytorch/issues/76750)\u001b[39;00m\n\u001b[0;32m    632\u001b[0m     \u001b[39mself\u001b[39m\u001b[39m.\u001b[39m_reset()  \u001b[39m# type: ignore[call-arg]\u001b[39;00m\n\u001b[1;32m--> 633\u001b[0m data \u001b[39m=\u001b[39m \u001b[39mself\u001b[39;49m\u001b[39m.\u001b[39;49m_next_data()\n\u001b[0;32m    634\u001b[0m \u001b[39mself\u001b[39m\u001b[39m.\u001b[39m_num_yielded \u001b[39m+\u001b[39m\u001b[39m=\u001b[39m \u001b[39m1\u001b[39m\n\u001b[0;32m    635\u001b[0m \u001b[39mif\u001b[39;00m \u001b[39mself\u001b[39m\u001b[39m.\u001b[39m_dataset_kind \u001b[39m==\u001b[39m _DatasetKind\u001b[39m.\u001b[39mIterable \u001b[39mand\u001b[39;00m \\\n\u001b[0;32m    636\u001b[0m         \u001b[39mself\u001b[39m\u001b[39m.\u001b[39m_IterableDataset_len_called \u001b[39mis\u001b[39;00m \u001b[39mnot\u001b[39;00m \u001b[39mNone\u001b[39;00m \u001b[39mand\u001b[39;00m \\\n\u001b[0;32m    637\u001b[0m         \u001b[39mself\u001b[39m\u001b[39m.\u001b[39m_num_yielded \u001b[39m>\u001b[39m \u001b[39mself\u001b[39m\u001b[39m.\u001b[39m_IterableDataset_len_called:\n",
      "File \u001b[1;32mc:\\Users\\YEBIN\\AppData\\Local\\Programs\\Python\\Python39\\lib\\site-packages\\torch\\utils\\data\\dataloader.py:677\u001b[0m, in \u001b[0;36m_SingleProcessDataLoaderIter._next_data\u001b[1;34m(self)\u001b[0m\n\u001b[0;32m    675\u001b[0m \u001b[39mdef\u001b[39;00m \u001b[39m_next_data\u001b[39m(\u001b[39mself\u001b[39m):\n\u001b[0;32m    676\u001b[0m     index \u001b[39m=\u001b[39m \u001b[39mself\u001b[39m\u001b[39m.\u001b[39m_next_index()  \u001b[39m# may raise StopIteration\u001b[39;00m\n\u001b[1;32m--> 677\u001b[0m     data \u001b[39m=\u001b[39m \u001b[39mself\u001b[39;49m\u001b[39m.\u001b[39;49m_dataset_fetcher\u001b[39m.\u001b[39;49mfetch(index)  \u001b[39m# may raise StopIteration\u001b[39;00m\n\u001b[0;32m    678\u001b[0m     \u001b[39mif\u001b[39;00m \u001b[39mself\u001b[39m\u001b[39m.\u001b[39m_pin_memory:\n\u001b[0;32m    679\u001b[0m         data \u001b[39m=\u001b[39m _utils\u001b[39m.\u001b[39mpin_memory\u001b[39m.\u001b[39mpin_memory(data, \u001b[39mself\u001b[39m\u001b[39m.\u001b[39m_pin_memory_device)\n",
      "File \u001b[1;32mc:\\Users\\YEBIN\\AppData\\Local\\Programs\\Python\\Python39\\lib\\site-packages\\torch\\utils\\data\\_utils\\fetch.py:51\u001b[0m, in \u001b[0;36m_MapDatasetFetcher.fetch\u001b[1;34m(self, possibly_batched_index)\u001b[0m\n\u001b[0;32m     49\u001b[0m         data \u001b[39m=\u001b[39m \u001b[39mself\u001b[39m\u001b[39m.\u001b[39mdataset\u001b[39m.\u001b[39m__getitems__(possibly_batched_index)\n\u001b[0;32m     50\u001b[0m     \u001b[39melse\u001b[39;00m:\n\u001b[1;32m---> 51\u001b[0m         data \u001b[39m=\u001b[39m [\u001b[39mself\u001b[39m\u001b[39m.\u001b[39mdataset[idx] \u001b[39mfor\u001b[39;00m idx \u001b[39min\u001b[39;00m possibly_batched_index]\n\u001b[0;32m     52\u001b[0m \u001b[39melse\u001b[39;00m:\n\u001b[0;32m     53\u001b[0m     data \u001b[39m=\u001b[39m \u001b[39mself\u001b[39m\u001b[39m.\u001b[39mdataset[possibly_batched_index]\n",
      "File \u001b[1;32mc:\\Users\\YEBIN\\AppData\\Local\\Programs\\Python\\Python39\\lib\\site-packages\\torch\\utils\\data\\_utils\\fetch.py:51\u001b[0m, in \u001b[0;36m<listcomp>\u001b[1;34m(.0)\u001b[0m\n\u001b[0;32m     49\u001b[0m         data \u001b[39m=\u001b[39m \u001b[39mself\u001b[39m\u001b[39m.\u001b[39mdataset\u001b[39m.\u001b[39m__getitems__(possibly_batched_index)\n\u001b[0;32m     50\u001b[0m     \u001b[39melse\u001b[39;00m:\n\u001b[1;32m---> 51\u001b[0m         data \u001b[39m=\u001b[39m [\u001b[39mself\u001b[39;49m\u001b[39m.\u001b[39;49mdataset[idx] \u001b[39mfor\u001b[39;00m idx \u001b[39min\u001b[39;00m possibly_batched_index]\n\u001b[0;32m     52\u001b[0m \u001b[39melse\u001b[39;00m:\n\u001b[0;32m     53\u001b[0m     data \u001b[39m=\u001b[39m \u001b[39mself\u001b[39m\u001b[39m.\u001b[39mdataset[possibly_batched_index]\n",
      "\u001b[1;32mc:\\Users\\YEBIN\\Desktop\\반도체\\sample_code.ipynb Cell 18\u001b[0m in \u001b[0;36m1\n\u001b[0;32m     <a href='vscode-notebook-cell:/c%3A/Users/YEBIN/Desktop/%EB%B0%98%EB%8F%84%EC%B2%B4/sample_code.ipynb#X22sZmlsZQ%3D%3D?line=14'>15</a>\u001b[0m inputs \u001b[39m=\u001b[39m torch\u001b[39m.\u001b[39mtensor([pos_x, pos_y, pos_z], dtype\u001b[39m=\u001b[39mtorch\u001b[39m.\u001b[39mfloat32)\n\u001b[0;32m     <a href='vscode-notebook-cell:/c%3A/Users/YEBIN/Desktop/%EB%B0%98%EB%8F%84%EC%B2%B4/sample_code.ipynb#X22sZmlsZQ%3D%3D?line=16'>17</a>\u001b[0m \u001b[39mif\u001b[39;00m \u001b[39mnot\u001b[39;00m \u001b[39mself\u001b[39m\u001b[39m.\u001b[39mmode \u001b[39m==\u001b[39m \u001b[39m'\u001b[39m\u001b[39mtest\u001b[39m\u001b[39m'\u001b[39m:\n\u001b[1;32m---> <a href='vscode-notebook-cell:/c%3A/Users/YEBIN/Desktop/%EB%B0%98%EB%8F%84%EC%B2%B4/sample_code.ipynb#X22sZmlsZQ%3D%3D?line=17'>18</a>\u001b[0m     label \u001b[39m=\u001b[39m torch\u001b[39m.\u001b[39;49mtensor(\u001b[39mself\u001b[39;49m\u001b[39m.\u001b[39;49mdf\u001b[39m.\u001b[39;49mloc[idx, \u001b[39m'\u001b[39;49m\u001b[39mforce\u001b[39;49m\u001b[39m'\u001b[39;49m], dtype\u001b[39m=\u001b[39;49mtorch\u001b[39m.\u001b[39;49mfloat32)\n\u001b[0;32m     <a href='vscode-notebook-cell:/c%3A/Users/YEBIN/Desktop/%EB%B0%98%EB%8F%84%EC%B2%B4/sample_code.ipynb#X22sZmlsZQ%3D%3D?line=18'>19</a>\u001b[0m     \u001b[39mreturn\u001b[39;00m inputs, label\n\u001b[0;32m     <a href='vscode-notebook-cell:/c%3A/Users/YEBIN/Desktop/%EB%B0%98%EB%8F%84%EC%B2%B4/sample_code.ipynb#X22sZmlsZQ%3D%3D?line=19'>20</a>\u001b[0m \u001b[39melse\u001b[39;00m:\n",
      "\u001b[1;31mKeyboardInterrupt\u001b[0m: "
     ]
    }
   ],
   "source": [
    "print(\"Training Start!\")\n",
    "\n",
    "model.train()\n",
    "for epoch in range(num_epochs):\n",
    "    print(f\"{epoch+1}/{num_epochs} epoch..\")\n",
    "    for inputs, labels in tqdm(train_loader):\n",
    "        optimizer.zero_grad()\n",
    "        \n",
    "        inputs = inputs.to(device)\n",
    "        labels = labels.to(device)\n",
    "        \n",
    "        outputs = model(inputs)\n",
    "        loss = criterion(outputs, labels)\n",
    "        \n",
    "        loss.backward()\n",
    "        optimizer.step()\n",
    "        \n",
    "print(\"Training Complete!\")        "
   ]
  },
  {
   "cell_type": "markdown",
   "metadata": {},
   "source": [
    "[Force] Inference"
   ]
  },
  {
   "cell_type": "code",
   "execution_count": null,
   "metadata": {},
   "outputs": [],
   "source": [
    "print(\"Inference Start!\")\n",
    "\n",
    "model.eval()\n",
    "\n",
    "preds = []\n",
    "with torch.no_grad():\n",
    "    for inputs in tqdm(test_loader):\n",
    "        inputs = inputs.to(device)\n",
    "        outputs = model(inputs)\n",
    "        \n",
    "        pred = outputs.detach().cpu().numpy()\n",
    "        preds.extend(pred)\n",
    "\n",
    "print(\"Inference Complete!\")\n",
    "len(preds)"
   ]
  },
  {
   "cell_type": "markdown",
   "metadata": {},
   "source": [
    "[Force] Submission"
   ]
  },
  {
   "cell_type": "code",
   "execution_count": null,
   "metadata": {},
   "outputs": [],
   "source": [
    "test_df['force'] = preds # 예측 결과 저장"
   ]
  },
  {
   "cell_type": "code",
   "execution_count": null,
   "metadata": {},
   "outputs": [],
   "source": [
    "# 한 분자가 몇 개의 원자로 이루어져 있는지에 따라 범위를 생성\n",
    "bundles_train, bundles_test = [], []\n",
    "\n",
    "flag = 0\n",
    "for size in sequence_train:\n",
    "    bundles_train.append((flag, flag+size))\n",
    "    flag += size\n",
    "\n",
    "flag = 0\n",
    "for size in sequence_test:\n",
    "    bundles_test.append((flag, flag+size))\n",
    "    flag += size    "
   ]
  },
  {
   "cell_type": "code",
   "execution_count": null,
   "metadata": {},
   "outputs": [],
   "source": [
    "preds_force = []\n",
    "\n",
    "for start, end in bundles_test:\n",
    "    preds_force.append(np.vstack(preds[start:end])) # 2차원 array로 저장\n",
    "\n",
    "sample['force'] = preds_force\n",
    "sample"
   ]
  },
  {
   "cell_type": "markdown",
   "metadata": {},
   "source": [
    "[Energy] Preprocessing"
   ]
  },
  {
   "cell_type": "code",
   "execution_count": null,
   "metadata": {},
   "outputs": [],
   "source": [
    "# 'force' 컬럼의 값을 분해하여 각각의 행으로 만듦\n",
    "force_df = train_df['force'].apply(pd.Series)\n",
    "force_df.columns = [f'force_{i}' for i in range(3)]\n",
    "\n",
    "# 분해한 'force' 컬럼을 추가\n",
    "train_df = train_df.drop('force', axis=1).join(force_df)\n",
    "\n",
    "# 'force' 컬럼의 값을 분해하여 각각의 행으로 만듦\n",
    "force_df = test_df['force'].apply(pd.Series)\n",
    "force_df.columns = [f'force_{i}' for i in range(3)]\n",
    "\n",
    "# 분해한 'force' 컬럼을 추가\n",
    "test_df = test_df.drop('force', axis=1).join(force_df)\n",
    "test_df.head()\n"
   ]
  },
  {
   "cell_type": "code",
   "execution_count": null,
   "metadata": {},
   "outputs": [],
   "source": [
    "# 데이터프레임에서 값 추출\n",
    "sequences_train = [train_df.iloc[start:end].values for start, end in bundles_train]\n",
    "sequences_test = [test_df.iloc[start:end].values for start, end in bundles_test]"
   ]
  },
  {
   "cell_type": "markdown",
   "metadata": {},
   "source": [
    "[Energy] Hyperparameter Setting"
   ]
  },
  {
   "cell_type": "code",
   "execution_count": null,
   "metadata": {},
   "outputs": [],
   "source": [
    "input_size = 6  # feature 개수\n",
    "hidden_size = 256\n",
    "output_size = 1 # target 개수\n",
    "num_epochs = 1\n",
    "batch_size = 64\n",
    "learning_rate = 0.001"
   ]
  },
  {
   "cell_type": "markdown",
   "metadata": {},
   "source": [
    "[Energy] Dataset\n"
   ]
  },
  {
   "cell_type": "code",
   "execution_count": null,
   "metadata": {},
   "outputs": [],
   "source": [
    "# 패딩을 사용하여 모든 시퀀스의 길이를 동일하게 만듦\n",
    "max_len = max(seq.shape[0] for seq in sequences_train)\n",
    "padded_sequences = [np.vstack([seq, np.zeros((max_len - seq.shape[0], 6))]) for seq in sequences_train]\n",
    "\n",
    "# 패딩된 시퀀스를 2차원 배열로 변환\n",
    "padded_array_train = np.stack(padded_sequences)\n",
    "X_tensor_train = torch.tensor(padded_array_train, dtype=torch.float32)\n",
    "y_tensor_train = torch.tensor(energies, dtype=torch.float32).view(-1, 1)\n",
    "train_dataset = TensorDataset(X_tensor_train, y_tensor_train)\n",
    "train_loader = DataLoader(train_dataset, batch_size=batch_size, shuffle=True)\n",
    "\n",
    "# 패딩을 사용하여 모든 시퀀스의 길이를 동일하게 만듦\n",
    "max_len = max(seq.shape[0] for seq in sequences_test)\n",
    "padded_sequences = [np.vstack([seq, np.zeros((max_len - seq.shape[0], 6))]) for seq in sequences_test]\n",
    "\n",
    "# 패딩된 시퀀스를 2차원 배열로 변환\n",
    "padded_array_test = np.stack(padded_sequences)\n",
    "X_tensor_test = torch.tensor(padded_array_test, dtype=torch.float32)\n",
    "test_dataset = TensorDataset(X_tensor_test)\n",
    "test_loader = DataLoader(test_dataset, batch_size=batch_size, shuffle=False)"
   ]
  },
  {
   "cell_type": "markdown",
   "metadata": {},
   "source": [
    "[Energy] Model"
   ]
  },
  {
   "cell_type": "code",
   "execution_count": null,
   "metadata": {},
   "outputs": [],
   "source": [
    "# BiLSTM 모델 정의\n",
    "class EnergyModel(nn.Module):\n",
    "    def __init__(self, input_size, hidden_size, num_layers=1, dropout_rate=0.5):\n",
    "        super(EnergyModel, self).__init__()\n",
    "        \n",
    "        # Bidirectional LSTM with Dropout\n",
    "        self.lstm = nn.LSTM(input_size, hidden_size, num_layers, \n",
    "                            batch_first=True, \n",
    "                            dropout=dropout_rate,\n",
    "                            bidirectional=True)\n",
    "        \n",
    "        # Bidirectional LSTM이므로 hidden_size 조정\n",
    "        self.linear = nn.Sequential(\n",
    "            nn.Linear(hidden_size * 2, hidden_size),\n",
    "            nn.ReLU(),\n",
    "            nn.BatchNorm1d(hidden_size),\n",
    "            nn.Dropout(dropout_rate),\n",
    "            nn.Linear(hidden_size, 1)\n",
    "        )\n",
    "        \n",
    "    def forward(self, x):\n",
    "        lstm_out, _ = self.lstm(x)\n",
    "        energy = self.linear(lstm_out[:, -1, :])\n",
    "        return energy"
   ]
  },
  {
   "cell_type": "code",
   "execution_count": null,
   "metadata": {},
   "outputs": [],
   "source": [
    "# 모델, 손실 함수, 옵티마이저 초기화\n",
    "model = EnergyModel(input_size, hidden_size).to(device)\n",
    "criterion = nn.MSELoss()\n",
    "optimizer = optim.Adam(model.parameters(), lr=learning_rate)"
   ]
  },
  {
   "cell_type": "markdown",
   "metadata": {},
   "source": [
    "[Energy] Train"
   ]
  },
  {
   "cell_type": "code",
   "execution_count": null,
   "metadata": {},
   "outputs": [],
   "source": [
    "print(\"Training Start!!\")\n",
    "\n",
    "# 학습\n",
    "model.train()\n",
    "for epoch in range(num_epochs):\n",
    "    print(f\"{epoch+1}/{num_epochs} epoch..\")    \n",
    "    for inputs, labels in tqdm(train_loader):\n",
    "        inputs = inputs.to(device)\n",
    "        labels = labels.to(device)\n",
    "        \n",
    "        optimizer.zero_grad()\n",
    "        \n",
    "        outputs = model(inputs)\n",
    "        loss = criterion(outputs, labels)\n",
    "        \n",
    "        loss.backward()\n",
    "        optimizer.step()\n",
    "        \n",
    "print(\"Training Complete!\")       "
   ]
  },
  {
   "cell_type": "markdown",
   "metadata": {},
   "source": [
    "[Energy] Inference"
   ]
  },
  {
   "cell_type": "code",
   "execution_count": null,
   "metadata": {},
   "outputs": [],
   "source": [
    "print(\"Inference Start!\")\n",
    "\n",
    "model.eval()\n",
    "\n",
    "preds = []\n",
    "with torch.no_grad():\n",
    "    for inputs in tqdm(test_loader):\n",
    "        inputs = inputs[0].to(device)\n",
    "\n",
    "        outputs = model(inputs)\n",
    "        pred = outputs.detach().cpu().numpy()\n",
    "\n",
    "        preds.extend(pred)\n",
    "\n",
    "print(\"Inference Complete!\")        \n",
    "len(preds)        \n"
   ]
  },
  {
   "cell_type": "markdown",
   "metadata": {},
   "source": [
    "[Energy] Submission"
   ]
  },
  {
   "cell_type": "code",
   "execution_count": null,
   "metadata": {},
   "outputs": [],
   "source": [
    "preds = [pred.item() for pred in preds]\n",
    "sample['energy'] = preds\n",
    "sample"
   ]
  },
  {
   "cell_type": "code",
   "execution_count": null,
   "metadata": {},
   "outputs": [],
   "source": [
    "sample.to_csv('baseline_submission.csv', index=False)"
   ]
  }
 ],
 "metadata": {
  "kernelspec": {
   "display_name": "Python 3",
   "language": "python",
   "name": "python3"
  },
  "language_info": {
   "codemirror_mode": {
    "name": "ipython",
    "version": 3
   },
   "file_extension": ".py",
   "mimetype": "text/x-python",
   "name": "python",
   "nbconvert_exporter": "python",
   "pygments_lexer": "ipython3",
   "version": "3.9.13"
  },
  "orig_nbformat": 4
 },
 "nbformat": 4,
 "nbformat_minor": 2
}
